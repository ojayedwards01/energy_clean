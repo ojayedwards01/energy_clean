{
 "cells": [
  {
   "cell_type": "markdown",
   "id": "c3d778d4",
   "metadata": {},
   "source": [
    "## Hamoye Week 2, Project code"
   ]
  },
  {
   "cell_type": "code",
   "execution_count": 29,
   "id": "cda182ff",
   "metadata": {},
   "outputs": [],
   "source": [
    "# importing required libraries\n",
    "import pandas as pd\n",
    "import numpy as np\n",
    "import seaborn as sns\n",
    "import matplotlib.pyplot as plt\n",
    "import statsmodels.api as sm\n",
    "from sklearn.model_selection import train_test_split\n",
    "from sklearn.preprocessing import MinMaxScaler\n",
    "from sklearn.linear_model import LinearRegression\n",
    "from sklearn.metrics import mean_absolute_error\n",
    "from sklearn.metrics import mean_squared_error\n",
    "from sklearn.metrics import r2_score\n",
    "from sklearn.linear_model import Lasso\n",
    "from sklearn.linear_model import Ridge\n"
   ]
  },
  {
   "cell_type": "markdown",
   "id": "c8f947e8",
   "metadata": {},
   "source": [
    "Checking the data for null values, this is to confirm if I have cleaning tasks to do before working with the data"
   ]
  },
  {
   "cell_type": "code",
   "execution_count": 19,
   "id": "4e7c4894",
   "metadata": {},
   "outputs": [
    {
     "data": {
      "text/plain": [
       "date           0\n",
       "Appliances     0\n",
       "lights         0\n",
       "T1             0\n",
       "RH_1           0\n",
       "T2             0\n",
       "RH_2           0\n",
       "T3             0\n",
       "RH_3           0\n",
       "T4             0\n",
       "RH_4           0\n",
       "T5             0\n",
       "RH_5           0\n",
       "T6             0\n",
       "RH_6           0\n",
       "T7             0\n",
       "RH_7           0\n",
       "T8             0\n",
       "RH_8           0\n",
       "T9             0\n",
       "RH_9           0\n",
       "T_out          0\n",
       "Press_mm_hg    0\n",
       "RH_out         0\n",
       "Windspeed      0\n",
       "Visibility     0\n",
       "Tdewpoint      0\n",
       "rv1            0\n",
       "rv2            0\n",
       "dtype: int64"
      ]
     },
     "execution_count": 19,
     "metadata": {},
     "output_type": "execute_result"
    }
   ],
   "source": [
    "data = pd.read_csv(\"energydata_complete.csv\")\n",
    "data.isnull().sum()"
   ]
  },
  {
   "cell_type": "markdown",
   "id": "5626c0f7",
   "metadata": {},
   "source": [
    "We can see from the results of the prebvous code that there is no null value for all the attributes in the dataset"
   ]
  },
  {
   "cell_type": "markdown",
   "id": "d7cd6899",
   "metadata": {},
   "source": [
    "Let's have a look at the various questions and attempt them"
   ]
  },
  {
   "cell_type": "markdown",
   "id": "7a92611c",
   "metadata": {},
   "source": [
    "### Question 1\n",
    "\n",
    "From the dataset, fit a linear model on the relationship between the temperature in the living room in Celsius (x = T2) and the temperature outside the building (y = T6). What is the R^2 value in two d.p.?"
   ]
  },
  {
   "cell_type": "code",
   "execution_count": 23,
   "id": "e5f32974",
   "metadata": {},
   "outputs": [
    {
     "name": "stdout",
     "output_type": "stream",
     "text": [
      "R-squared: 0.64\n"
     ]
    }
   ],
   "source": [
    "# Select the independent variable (T2) and the dependent variable (T6)\n",
    "X = data['T2']\n",
    "y = data['T6']\n",
    "\n",
    "# Add a constant term to the independent variable\n",
    "X = sm.add_constant(X)\n",
    "\n",
    "# Fit the linear model(ordinary least squares (OLS) regression)\n",
    "model = sm.OLS(y, X).fit()\n",
    "\n",
    "# Get the R-squared value\n",
    "r_squared = model.rsquared\n",
    "\n",
    "# Print the R-squared value rounded to 2 decimal places\n",
    "print(f\"R-squared: {r_squared:.2f}\")"
   ]
  },
  {
   "cell_type": "markdown",
   "id": "909fabd9",
   "metadata": {},
   "source": [
    "### Questions 2,3,4,5\n",
    "Normalize the dataset using the MinMaxScaler after removing the following columns: [“date”, “lights”]. The target variable is “Appliances”. Use a 70-30 train-test set split with a random state of 42 (for reproducibility). Run a multiple linear regression using the training set and evaluate your model on the test set. Answer the following questions:\n",
    "\n",
    "What is the \n",
    "1. Mean Absolute Error (in two decimal places)?\n",
    "2. Residual Sum of Squares (in two decimal places)?\n",
    "3. Root Mean Squared Error (in three decimal places)?\n",
    "4. Coefficient of Determination (in two decimal places)?"
   ]
  },
  {
   "cell_type": "code",
   "execution_count": 25,
   "id": "a69dd3e8",
   "metadata": {},
   "outputs": [
    {
     "name": "stdout",
     "output_type": "stream",
     "text": [
      "Mean Absolute Error: 53.64\n",
      "Residual Sum of Squares: 51918501.21\n",
      "Root Mean Squared Error: 93.640\n",
      "Coefficient of Determination (R-squared): 0.15\n"
     ]
    }
   ],
   "source": [
    "# Remove columns and select target variable\n",
    "columns_to_remove = [\"date\", \"lights\"]\n",
    "target_variable = \"Appliances\"\n",
    "data_filtered = data.drop(columns=columns_to_remove)\n",
    "X = data_filtered.drop(columns=target_variable)\n",
    "y = data_filtered[target_variable]\n",
    "\n",
    "# Normalize the dataset using MinMaxScaler\n",
    "scaler = MinMaxScaler()\n",
    "X_normalized = scaler.fit_transform(X)\n",
    "\n",
    "# Split the data into train and test sets\n",
    "X_train, X_test, y_train, y_test = train_test_split(\n",
    "    X_normalized, y, test_size=0.3, random_state=42\n",
    ")\n",
    "\n",
    "# Train the linear regression model\n",
    "model = LinearRegression()\n",
    "model.fit(X_train, y_train)\n",
    "\n",
    "# Predict on the test set\n",
    "y_pred = model.predict(X_test)\n",
    "\n",
    "# Calculate Mean Absolute Error (MAE)\n",
    "mae = mean_absolute_error(y_test, y_pred)\n",
    "\n",
    "# Calculate Residual Sum of Squares (RSS)\n",
    "rss = mean_squared_error(y_test, y_pred) * len(y_test)\n",
    "\n",
    "# Calculate Root Mean Squared Error (RMSE)\n",
    "rmse = mean_squared_error(y_test, y_pred, squared=False)\n",
    "\n",
    "# Calculate Coefficient of Determination (R-squared)\n",
    "r_squared = r2_score(y_test, y_pred)\n",
    "\n",
    "# Print the results rounded to 2 decimal places\n",
    "print(f\"Mean Absolute Error: {mae:.2f}\")\n",
    "print(f\"Residual Sum of Squares: {rss:.2f}\")\n",
    "print(f\"Root Mean Squared Error: {rmse:.3f}\")\n",
    "print(f\"Coefficient of Determination (R-squared): {r_squared:.2f}\")"
   ]
  },
  {
   "cell_type": "markdown",
   "id": "980bb6dc",
   "metadata": {},
   "source": [
    "### Question 6\n",
    "Obtain the feature weights from your linear model above. Which features have the lowest and highest weights respectively?"
   ]
  },
  {
   "cell_type": "code",
   "execution_count": 27,
   "id": "dfb29ac9",
   "metadata": {},
   "outputs": [
    {
     "name": "stdout",
     "output_type": "stream",
     "text": [
      "Feature with the lowest weight: RH_2\n",
      "Feature with the highest weight: RH_1\n"
     ]
    }
   ],
   "source": [
    "# Get the feature weights\n",
    "feature_weights = pd.DataFrame({\"Feature\": X.columns, \"Weight\": model.coef_})\n",
    "\n",
    "# Sort the feature weights\n",
    "feature_weights = feature_weights.sort_values(\"Weight\")\n",
    "\n",
    "# Extract the feature with the lowest and highest weights\n",
    "lowest_weight_feature = feature_weights.iloc[0][\"Feature\"]\n",
    "highest_weight_feature = feature_weights.iloc[-1][\"Feature\"]\n",
    "\n",
    "# Print the features with the lowest and highest weights\n",
    "print(\"Feature with the lowest weight:\", lowest_weight_feature)\n",
    "print(\"Feature with the highest weight:\", highest_weight_feature)\n"
   ]
  },
  {
   "cell_type": "markdown",
   "id": "736ca0d4",
   "metadata": {},
   "source": [
    "### Question 7\n",
    "Train a ridge regression model with an alpha value of 0.4. Is there any change to the root mean squared error (RMSE) when evaluated on the test set?"
   ]
  },
  {
   "cell_type": "code",
   "execution_count": 30,
   "id": "7ffa97c7",
   "metadata": {},
   "outputs": [
    {
     "name": "stdout",
     "output_type": "stream",
     "text": [
      "Root Mean Squared Error (RMSE): 93.66122703951946\n"
     ]
    }
   ],
   "source": [
    "# Train the Ridge regression model with alpha=0.4\n",
    "model = Ridge(alpha=0.4)\n",
    "model.fit(X_train, y_train)\n",
    "\n",
    "# Predict on the test set\n",
    "y_pred = model.predict(X_test)\n",
    "\n",
    "# Calculate the RMSE on the test set\n",
    "rmse = mean_squared_error(y_test, y_pred, squared=False)\n",
    "\n",
    "# Print the RMSE\n",
    "print(\"Root Mean Squared Error (RMSE):\", rmse)\n"
   ]
  },
  {
   "cell_type": "markdown",
   "id": "8032030a",
   "metadata": {},
   "source": [
    "### Question 8 \n",
    "Train a lasso regression model with an alpha value of 0.001 and obtain the new feature weights with it. How many of the features have non-zero feature weights?"
   ]
  },
  {
   "cell_type": "code",
   "execution_count": 31,
   "id": "07f1e700",
   "metadata": {},
   "outputs": [
    {
     "name": "stdout",
     "output_type": "stream",
     "text": [
      "Number of features with non-zero weights: 25\n"
     ]
    }
   ],
   "source": [
    "# Train the Lasso regression model with alpha=0.001\n",
    "model = Lasso(alpha=0.001)\n",
    "model.fit(X_train, y_train)\n",
    "\n",
    "# Get the feature weights\n",
    "feature_weights = model.coef_\n",
    "\n",
    "# Count the number of features with non-zero weights\n",
    "non_zero_features = sum(feature_weights != 0)\n",
    "\n",
    "# Print the number of features with non-zero weights\n",
    "print(\"Number of features with non-zero weights:\", non_zero_features)\n"
   ]
  },
  {
   "cell_type": "markdown",
   "id": "cc305e26",
   "metadata": {},
   "source": [
    "### Question 9\n",
    "What is the new RMSE with the lasso regression? (Answer should be in three (3) decimal places)"
   ]
  },
  {
   "cell_type": "code",
   "execution_count": 32,
   "id": "ee8de38b",
   "metadata": {},
   "outputs": [
    {
     "name": "stdout",
     "output_type": "stream",
     "text": [
      "Root Mean Squared Error (RMSE): 93.641\n"
     ]
    }
   ],
   "source": [
    "# Train the Lasso regression model with alpha=0.001\n",
    "model = Lasso(alpha=0.001)\n",
    "model.fit(X_train, y_train)\n",
    "\n",
    "# Predict on the test set\n",
    "y_pred = model.predict(X_test)\n",
    "\n",
    "# Calculate the RMSE on the test set\n",
    "rmse = mean_squared_error(y_test, y_pred, squared=False)\n",
    "\n",
    "# Print the RMSE\n",
    "print(\"Root Mean Squared Error (RMSE): {:.3f}\".format(rmse))\n"
   ]
  }
 ],
 "metadata": {
  "kernelspec": {
   "display_name": "Python 3",
   "language": "python",
   "name": "python3"
  },
  "language_info": {
   "codemirror_mode": {
    "name": "ipython",
    "version": 3
   },
   "file_extension": ".py",
   "mimetype": "text/x-python",
   "name": "python",
   "nbconvert_exporter": "python",
   "pygments_lexer": "ipython3",
   "version": "3.8.8"
  }
 },
 "nbformat": 4,
 "nbformat_minor": 5
}
